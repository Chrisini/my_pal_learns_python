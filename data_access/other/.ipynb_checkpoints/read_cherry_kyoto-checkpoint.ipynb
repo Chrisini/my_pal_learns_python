{
 "cells": [
  {
   "cell_type": "code",
   "execution_count": null,
   "id": "4c8fb0ec-5792-4d25-bfbf-465a3cd1d58c",
   "metadata": {},
   "outputs": [],
   "source": []
  }
 ],
 "metadata": {
  "kernelspec": {
   "display_name": "Python 3 (ipykernel)",
   "language": "python",
   "name": "python3"
  },
  "language_info": {
   "codemirror_mode": {
    "name": "ipython",
    "version": 3
   },
   "file_extension": ".py",
   "mimetype": "text/x-python",
   "name": "python",
   "nbconvert_exporter": "python",
   "pygments_lexer": "ipython3",
   "version": "3.9.10"
  }
 },
 "nbformat": 4,
 "nbformat_minor": 5
}
