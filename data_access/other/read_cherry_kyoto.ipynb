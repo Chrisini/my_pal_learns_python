{
 "cells": [
  {
   "cell_type": "code",
   "execution_count": 1,
   "id": "4c8fb0ec-5792-4d25-bfbf-465a3cd1d58c",
   "metadata": {},
   "outputs": [],
   "source": [
    "import pandas as pd\n",
    "import numpy as np\n",
    "import matplotlib.pyplot as plt\n",
    "\n",
    "plt.rcParams.update({'font.size': 22})\n",
    "\n",
    "# pip install html5lib"
   ]
  },
  {
   "cell_type": "markdown",
   "id": "907a1997-8780-4fb0-b3b4-30567ccb77a0",
   "metadata": {},
   "source": [
    "# cherry blossom kyoto research\n",
    "* 'http://atmenv.envi.osakafu-u.ac.jp/aono/kyophenotemp4/' \n",
    "* (this is in a pre-html tag and difficult to extract)"
   ]
  },
  {
   "cell_type": "markdown",
   "id": "d144dc3f-3ad8-435b-8d74-fd3f698a9863",
   "metadata": {},
   "source": [
    "# cherry blossom prediction challenge:\n",
    "* https://github.com/GMU-CherryBlossomCompetition/peak-bloom-prediction/tree/main/data"
   ]
  },
  {
   "cell_type": "code",
   "execution_count": null,
   "id": "ade8b1b0-14dc-43b7-8e38-5c43418b721b",
   "metadata": {},
   "outputs": [],
   "source": []
  }
 ],
 "metadata": {
  "kernelspec": {
   "display_name": "Python 3 (ipykernel)",
   "language": "python",
   "name": "python3"
  },
  "language_info": {
   "codemirror_mode": {
    "name": "ipython",
    "version": 3
   },
   "file_extension": ".py",
   "mimetype": "text/x-python",
   "name": "python",
   "nbconvert_exporter": "python",
   "pygments_lexer": "ipython3",
   "version": "3.9.10"
  }
 },
 "nbformat": 4,
 "nbformat_minor": 5
}
