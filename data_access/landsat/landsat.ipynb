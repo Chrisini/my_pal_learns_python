{
 "cells": [
  {
   "cell_type": "markdown",
   "metadata": {},
   "source": [
    "Make sure you have the landsat images downloaded"
   ]
  },
  {
   "cell_type": "code",
   "execution_count": null,
   "metadata": {},
   "outputs": [],
   "source": [
    "from pathlib import Path\n",
    "from PIL import Image\n",
    "import matplotlib.pyplot as plt\n",
    "\n",
    "# Get the current directory (where your Python script is located)\n",
    "current_directory = Path.cwd()\n",
    "\n",
    "# Go up one level to find the \"data\" folder\n",
    "data_directory = current_directory.parent / \"data\"\n",
    "\n",
    "# Create the path to the \"images\" folder within the \"data\" folder\n",
    "sanfran_images = data_directory / \"landsat\" / \"data\" / \"landsat_data\" / \"sanfran\"\n",
    "\n",
    "type(sanfran_images)"
   ]
  },
  {
   "cell_type": "code",
   "execution_count": null,
   "metadata": {},
   "outputs": [],
   "source": [
    "# List all files in the directory\n",
    "files = [entry for entry in sanfran_images.iterdir() if entry.is_file()]\n",
    "\n",
    "# Filter out all non-image files\n",
    "images = [file for file in files if file.suffix in ['.jpg', '.png', '.jpeg']]\n",
    "\n",
    "# Loop through all the images\n",
    "for image in images:\n",
    "    # Open the image file\n",
    "    img = Image.open(image)\n",
    "    \n",
    "    # Display the image\n",
    "    plt.imshow(img)\n",
    "    plt.title(image.name)\n",
    "    plt.show()\n",
    "    \n",
    "    # Print image details\n",
    "    print(f\"Image: {image.name}, Size: {img.size}, Mode: {img.mode}\")"
   ]
  }
 ],
 "metadata": {
  "kernelspec": {
   "display_name": "venv",
   "language": "python",
   "name": "python3"
  },
  "language_info": {
   "codemirror_mode": {
    "name": "ipython",
    "version": 3
   },
   "file_extension": ".py",
   "mimetype": "text/x-python",
   "name": "python",
   "nbconvert_exporter": "python",
   "pygments_lexer": "ipython3",
   "version": "3.11.3"
  }
 },
 "nbformat": 4,
 "nbformat_minor": 2
}
