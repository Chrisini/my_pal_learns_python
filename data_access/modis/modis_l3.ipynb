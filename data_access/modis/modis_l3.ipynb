{
 "cells": [
  {
   "cell_type": "markdown",
   "id": "7179862e-9b60-4603-9212-8fddcd221739",
   "metadata": {},
   "source": [
    "# Open and visualise modis l3 data\n",
    "\n",
    "* you can get the files from https://oceancolor.gsfc.nasa.gov/l3/\n",
    "* select what you want\n",
    "* klick download\n",
    "* use links for download (e.g. put in file browser or use a python script)\n",
    "* put in datasets dir"
   ]
  },
  {
   "cell_type": "markdown",
   "id": "a3e16760-1055-4bfd-abc8-de677eb45480",
   "metadata": {},
   "source": [
    "## imports"
   ]
  },
  {
   "cell_type": "code",
   "execution_count": null,
   "id": "83fe1be0-cbfb-4735-8302-b4a8db36077c",
   "metadata": {},
   "outputs": [],
   "source": [
    "import netCDF4 as nc\n",
    "import numpy as np\n",
    "import matplotlib.pyplot as plt\n",
    "\n",
    "# for geopandas\n",
    "import geopandas as gpd\n",
    "\n",
    "# we imported all our things :)\n",
    "\n",
    "# possible modes: \n",
    "modes = [\n",
    "        { # 0\n",
    "            \"type\": \"chlor_a\", \n",
    "            \"filename\": \"../../datasets/modis/AQUA_MODIS.20230101_20230131.L3m.MO.CHL.chlor_a.4km.nc\",\n",
    "            \"description\": \"chlorophyll\"\n",
    "        },\n",
    "        { # 1\n",
    "            \"type\": \"sst\",\n",
    "            \"filename\": \"../../datasets/modis/AQUA_MODIS.20230101_20230131.L3m.MO.SST.sst.4km.nc\",\n",
    "            \"description\": \"sea surface temperature\"\n",
    "        },\n",
    "        { # 2\n",
    "            \"type\": \"poc\",\n",
    "            \"filename\": \"../../datasets/modis/AQUA_MODIS.20230101.L3m.DAY.POC.poc.4km.nc\",\n",
    "            \"description\": \"Particulate Organic Carbon\"\n",
    "        }\n",
    "]\n",
    "\n",
    "mode = modes[1]"
   ]
  },
  {
   "cell_type": "markdown",
   "id": "76671f8b-77d3-4c01-abb9-3d861f620874",
   "metadata": {},
   "source": [
    "## read data"
   ]
  },
  {
   "cell_type": "code",
   "execution_count": null,
   "id": "8d0940e6-5610-4901-bd1f-b28e45341d48",
   "metadata": {},
   "outputs": [],
   "source": [
    "# read the data\n",
    "data = nc.Dataset(mode[\"filename\"], \"r\")"
   ]
  },
  {
   "cell_type": "markdown",
   "id": "6bd3df59-0172-45d9-9cfa-9f8a9756d550",
   "metadata": {},
   "source": [
    "## modify"
   ]
  },
  {
   "cell_type": "code",
   "execution_count": null,
   "id": "75d59014-9f8f-4844-b6d1-8ccb71c6cbec",
   "metadata": {},
   "outputs": [],
   "source": [
    "print(\"=== GLOBAL ATTRIBUTES ===\")\n",
    "for attr in data.ncattrs():\n",
    "    print(f\"{attr}: {data.getncattr(attr)}\")\n",
    "\n",
    "print(\"\\n=== DIMENSIONS ===\")\n",
    "for dim, dim_info in data.dimensions.items():\n",
    "    print(f\"{dim}: {len(dim_info)}\")\n",
    "\n",
    "print(\"\\n=== VARIABLES ===\")\n",
    "for var, var_info in data.variables.items():\n",
    "    print(f\"{var}: {var_info}\")\n",
    "\n",
    "print(\"\\n=== GROUPS ===\")\n",
    "for group in data.groups:\n",
    "    print(group)\n",
    "\n",
    "# read latitude, longitude and poc data\n",
    "latitude = data.variables['lat'][:]\n",
    "longitude = data.variables['lon'][:]\n",
    "poc_data = data.variables[mode[\"type\"]][:]\n",
    "\n",
    "# replace fill values with NaN for better plotting\n",
    "fill_value = data.variables[mode[\"type\"]]._FillValue\n",
    "poc_data = np.where(poc_data == fill_value, np.nan, poc_data)\n",
    "\n",
    "# # apply the scale_factor and add_offset\n",
    "# scale_factor = data.variables['chlor_a'].scale_factor\n",
    "# add_offset = data.variables['chlor_a'].add_offset\n",
    "# poc_data = poc_data * scale_factor + add_offset"
   ]
  },
  {
   "cell_type": "markdown",
   "id": "e924f70a-41c2-48d9-ab8e-31d875a77e63",
   "metadata": {},
   "source": [
    "## crop by coordinates (doesn't work for christina)"
   ]
  },
  {
   "cell_type": "code",
   "execution_count": null,
   "id": "abae4c4f-836f-45d8-89eb-70f699dc1407",
   "metadata": {},
   "outputs": [],
   "source": [
    "# read and plot the GeoJSON file\n",
    "geojson_file = 'map22.geojson'  # replace with your GeoJSON file path\n",
    "gdf = gpd.read_file(geojson_file)\n",
    "\n",
    "for polygon in gdf.geometry:\n",
    "    x,y = polygon.exterior.xy\n",
    "    plt.plot(x, y, color=\"red\")  # adjust the color as you like\n",
    "\n",
    "# to zoom into the region covered by the GeoJSON file\n",
    "x_min, y_min, x_max, y_max = gdf.total_bounds\n",
    "\n",
    "# set any data below 0 to np.nan\n",
    "my_poc_data = np.where(poc_data < 0, np.nan, poc_data)\n",
    "\n",
    "# print the max and min values of my_poc_data\n",
    "print(np.nanmax(my_poc_data))\n",
    "print('----')\n",
    "print(np.nanmin(my_poc_data))"
   ]
  },
  {
   "cell_type": "code",
   "execution_count": null,
   "id": "bff1ae63",
   "metadata": {},
   "outputs": [],
   "source": [
    "# standard values https://oceancolor.gsfc.nasa.gov/l3/:\n",
    "  # POC: 10 - 1000 mg m^-3\n",
    "  # SST: -10 - 50 C\n",
    "  # chlor_a: 0.01 - 20 mg m^-3\n",
    "\n",
    "# for each mode, crop out data outside of these ranges (which are land/sea not relevant)\n",
    "if mode[\"type\"] == \"poc\":\n",
    "    my_poc_data = np.where(my_poc_data < 10, np.nan, my_poc_data)\n",
    "    my_poc_data = np.where(my_poc_data > 1000, np.nan, my_poc_data)\n",
    "elif mode[\"type\"] == \"sst\":\n",
    "    my_poc_data = np.where(my_poc_data < -10, np.nan, my_poc_data)\n",
    "    my_poc_data = np.where(my_poc_data > 50, np.nan, my_poc_data)\n",
    "elif mode[\"type\"] == \"chlor_a\":\n",
    "    my_poc_data = np.where(my_poc_data < 0.01, np.nan, my_poc_data)\n",
    "    my_poc_data = np.where(my_poc_data > 20, np.nan, my_poc_data)"
   ]
  },
  {
   "cell_type": "markdown",
   "id": "9c02f4f4-0540-4cbb-a56e-76ffacd57882",
   "metadata": {},
   "source": [
    "# visualisation"
   ]
  },
  {
   "cell_type": "markdown",
   "id": "433eb13b-f39c-46c6-b4be-dcff35236aa4",
   "metadata": {},
   "source": [
    "## chlorophyll"
   ]
  },
  {
   "cell_type": "markdown",
   "id": "7f6722d2-4de5-4a81-9cad-a48e1b652fad",
   "metadata": {},
   "source": [
    "### save mapped image (chlor_a)"
   ]
  },
  {
   "cell_type": "code",
   "execution_count": null,
   "id": "3a210865-daa1-4425-83e0-8da33c77adfc",
   "metadata": {},
   "outputs": [],
   "source": [
    "if mode[\"type\"] == \"chlor_a\":\n",
    "    plt.figure(figsize=(12, 6))\n",
    "    plt.pcolormesh(longitude, latitude, poc_data)\n",
    "    plt.colorbar(label='Chlorophyll-a (mg m^-3)')\n",
    "    plt.xlabel('Longitude (degrees east)')\n",
    "    plt.ylabel('Latitude (degrees north)')\n",
    "    plt.title('MODISA Level-3 Standard Mapped Image for Chlorophyll-a')\n",
    "    plt.savefig('tmp/modis_chl.png')\n",
    "    plt.close()"
   ]
  },
  {
   "cell_type": "markdown",
   "id": "3bac784a-f296-4fad-afdf-78142767b3a0",
   "metadata": {},
   "source": [
    "### save histogram (chlor_a)"
   ]
  },
  {
   "cell_type": "code",
   "execution_count": null,
   "id": "6791251c-8efb-4ad1-aaa4-b72692502ac8",
   "metadata": {},
   "outputs": [],
   "source": [
    "if mode[\"type\"] == \"chlor_a\":\n",
    "    # plot a histogram of the data excluding values below 1000\n",
    "    plt.figure(figsize=(12, 6))\n",
    "    plt.hist(poc_data[~np.isnan(poc_data)], bins=100, range=(0, 87))\n",
    "    plt.xlabel('Chlorophyll-a (mg m^-3)')\n",
    "    plt.ylabel('Frequency')\n",
    "    plt.title('Histogram of chlorophyll-a data')\n",
    "    plt.savefig('tmp/modis_chl_hist.png')\n",
    "    plt.close()"
   ]
  },
  {
   "cell_type": "markdown",
   "id": "b0feb83f-67d3-4b30-b244-94d713f877e2",
   "metadata": {},
   "source": [
    "### saved cropped image (chlor_a)"
   ]
  },
  {
   "cell_type": "code",
   "execution_count": null,
   "id": "4b022612-c9ea-4a75-9268-fbc36bc3bbae",
   "metadata": {},
   "outputs": [],
   "source": [
    "if mode[\"type\"] == \"chlor_a\":\n",
    "\n",
    "    # set min and max value\n",
    "    min_value = 0\n",
    "    max_value = 20\n",
    "\n",
    "    # plot data\n",
    "    plt.figure(figsize=(12, 6))\n",
    "    plt.pcolormesh(longitude, latitude, poc_data)\n",
    "    plt.colorbar(label='Chlorophyll-a (mg m^-3)')\n",
    "    plt.xlabel('Longitude (degrees east)')\n",
    "    plt.ylabel('Latitude (degrees north)')\n",
    "    plt.title('MODISA Level-3 Standard Mapped Image for Chlorophyll-a')\n",
    "    plt.xlim(x_min, x_max)\n",
    "    plt.ylim(y_min, y_max)\n",
    "    plt.clim(min_value, max_value)\n",
    "    plt.savefig('tmp/modis_chl_crop.png')\n",
    "    plt.close()"
   ]
  },
  {
   "cell_type": "markdown",
   "id": "4a3024e0-a92b-46e8-969b-e7ad17c65a2c",
   "metadata": {},
   "source": [
    "## sea surface temperature"
   ]
  },
  {
   "cell_type": "markdown",
   "id": "42e7f7b2-c484-4a88-8abc-04ef73d2330e",
   "metadata": {},
   "source": [
    "### save mapped image (sst)"
   ]
  },
  {
   "cell_type": "code",
   "execution_count": null,
   "id": "6748c7ce-d21d-47f3-95ee-6ab7c351498a",
   "metadata": {},
   "outputs": [],
   "source": [
    "if mode[\"type\"] == \"sst\":\n",
    "    plt.figure(figsize=(12, 6))\n",
    "    plt.pcolormesh(longitude, latitude, poc_data)\n",
    "    plt.colorbar(label='Temperature')\n",
    "    plt.xlabel('Longitude (degrees east)')\n",
    "    plt.ylabel('Latitude (degrees north)')\n",
    "    plt.title('MODISA Level-3 Standard Mapped Image for SST')\n",
    "    plt.savefig('tmp/modis_sst.png')\n",
    "    plt.close()"
   ]
  },
  {
   "cell_type": "markdown",
   "id": "036ebe9e-126c-4caa-b5f1-bbc7a59e99e2",
   "metadata": {
    "tags": []
   },
   "source": [
    "### save histogram (sst)"
   ]
  },
  {
   "cell_type": "code",
   "execution_count": null,
   "id": "ecdd49d3-c7aa-44a1-905e-d76e3778625e",
   "metadata": {},
   "outputs": [],
   "source": [
    "if mode[\"type\"] == \"sst\":\n",
    "    # todo - does the range make sense??\n",
    "    # plot a histogram of the data excluding values below 1000\n",
    "    plt.figure(figsize=(12, 6))\n",
    "    plt.hist(poc_data[~np.isnan(poc_data)], bins=100, range=(0, 87))\n",
    "    plt.xlabel('')\n",
    "    plt.ylabel('')\n",
    "    plt.title('Histogram of temperature data')\n",
    "    plt.savefig('tmp/modis_sst_hist.png')\n",
    "    plt.close()"
   ]
  },
  {
   "cell_type": "markdown",
   "id": "c1cbd200-03e5-4aa0-9c6c-913b953e1ae2",
   "metadata": {},
   "source": [
    "### save cropped mapped image (sst)"
   ]
  },
  {
   "cell_type": "code",
   "execution_count": null,
   "id": "15e4623f-0f2b-4153-a9e2-7968b55b32ba",
   "metadata": {},
   "outputs": [],
   "source": [
    "if mode[\"type\"] == \"sst\":\n",
    "    # set min and max value\n",
    "    min_value = 0\n",
    "    max_value = 20\n",
    "\n",
    "    # plot data\n",
    "    plt.figure(figsize=(12, 6))\n",
    "    plt.pcolormesh(longitude, latitude, poc_data)\n",
    "    plt.colorbar(label='Sea Surface Temperature')\n",
    "    plt.xlabel('Longitude (degrees east)')\n",
    "    plt.ylabel('Latitude (degrees north)')\n",
    "    plt.title('MODISA Level-3 Standard Mapped Image for SST')\n",
    "    plt.xlim(x_min, x_max)\n",
    "    plt.ylim(y_min, y_max)\n",
    "    plt.clim(min_value, max_value)\n",
    "    plt.savefig('tmp/modis_sst_crop.png')\n",
    "    plt.close()"
   ]
  },
  {
   "cell_type": "markdown",
   "id": "5c5f3c8b-3ee0-489e-9d3a-90fdf7da5936",
   "metadata": {},
   "source": [
    "## particulate organic carbon"
   ]
  },
  {
   "cell_type": "markdown",
   "id": "eeec3ab6-d2c9-49ff-939e-637771905382",
   "metadata": {},
   "source": [
    "### save mapped image (poc)"
   ]
  },
  {
   "cell_type": "code",
   "execution_count": null,
   "id": "609878c1-5432-4efc-92a5-bb21bb6c242e",
   "metadata": {},
   "outputs": [],
   "source": [
    "if mode[\"type\"] == \"poc\":\n",
    "\n",
    "    # apply the scale_factor and add_offset\n",
    "    scale_factor = data.variables['poc'].scale_factor\n",
    "    add_offset = data.variables['poc'].add_offset\n",
    "    poc_data = poc_data * scale_factor + add_offset\n",
    "\n",
    "    # plot data\n",
    "    plt.figure(figsize=(12, 6))\n",
    "    plt.pcolormesh(longitude, latitude, poc_data)\n",
    "    plt.colorbar(label='Particulate Organic Carbon (mg m^-3)')\n",
    "    plt.xlabel('Longitude (degrees east)')\n",
    "    plt.ylabel('Latitude (degrees north)')\n",
    "    plt.title('MODISA Level-3 Standard Mapped Image for POC')\n",
    "    plt.savefig('modis_poc.png')\n",
    "    plt.close()"
   ]
  },
  {
   "cell_type": "markdown",
   "id": "4eb92e2e-42b6-4c93-9734-f46f76ec500e",
   "metadata": {},
   "source": [
    "### save cropped image (poc)"
   ]
  },
  {
   "cell_type": "code",
   "execution_count": null,
   "id": "bacdda2f-67a8-4eca-b322-e76996b457f1",
   "metadata": {},
   "outputs": [],
   "source": [
    "if mode[\"type\"] == \"poc\":\n",
    "\n",
    "    # plot data\n",
    "    plt.figure(figsize=(12, 6))\n",
    "    plt.pcolormesh(longitude, latitude, poc_data)\n",
    "    plt.colorbar(label='Particulate Organic Carbon (mg m^-3)')\n",
    "    plt.xlabel('Longitude (degrees east)')\n",
    "    plt.ylabel('Latitude (degrees north)')\n",
    "    plt.title('MODISA Level-3 Standard Mapped Image for POC')\n",
    "    plt.xlim(x_min, x_max)\n",
    "    plt.ylim(y_min, y_max)\n",
    "    plt.savefig('modis_poc_crop.png')\n",
    "    plt.close()"
   ]
  }
 ],
 "metadata": {
  "kernelspec": {
   "display_name": "Python 3 (ipykernel)",
   "language": "python",
   "name": "python3"
  },
  "language_info": {
   "codemirror_mode": {
    "name": "ipython",
    "version": 3
   },
   "file_extension": ".py",
   "mimetype": "text/x-python",
   "name": "python",
   "nbconvert_exporter": "python",
   "pygments_lexer": "ipython3",
   "version": "3.9.10"
  }
 },
 "nbformat": 4,
 "nbformat_minor": 5
}
