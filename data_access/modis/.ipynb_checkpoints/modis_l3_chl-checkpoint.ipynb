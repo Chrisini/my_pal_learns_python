{
 "cells": [
  {
   "cell_type": "markdown",
   "id": "7179862e-9b60-4603-9212-8fddcd221739",
   "metadata": {},
   "source": [
    "# Open and visualise modis l3 data\n",
    "\n",
    "* you can get the files from https://oceancolor.gsfc.nasa.gov/l3/\n",
    "* select what you want\n",
    "* klick download\n",
    "* use links for download (e.g. put in file browser or use a python script)\n",
    "* put in datasets dir"
   ]
  },
  {
   "cell_type": "markdown",
   "id": "a3e16760-1055-4bfd-abc8-de677eb45480",
   "metadata": {},
   "source": [
    "## imports"
   ]
  },
  {
   "cell_type": "code",
   "execution_count": 48,
   "id": "83fe1be0-cbfb-4735-8302-b4a8db36077c",
   "metadata": {},
   "outputs": [
    {
     "ename": "SyntaxError",
     "evalue": "closing parenthesis ']' does not match opening parenthesis '{' on line 20 (2364617962.py, line 24)",
     "output_type": "error",
     "traceback": [
      "\u001b[1;36m  File \u001b[1;32m\"C:\\Users\\Prinzessin\\AppData\\Local\\Temp\\ipykernel_19812\\2364617962.py\"\u001b[1;36m, line \u001b[1;32m24\u001b[0m\n\u001b[1;33m    ]\u001b[0m\n\u001b[1;37m    ^\u001b[0m\n\u001b[1;31mSyntaxError\u001b[0m\u001b[1;31m:\u001b[0m closing parenthesis ']' does not match opening parenthesis '{' on line 20\n"
     ]
    }
   ],
   "source": [
    "import netCDF4 as nc\n",
    "import numpy as np\n",
    "import matplotlib.pyplot as plt\n",
    "\n",
    "# for geopandas\n",
    "import geopandas as gpd\n",
    "\n",
    "# possible modes: \n",
    "modes = [\n",
    "        { # 0\n",
    "            \"type\": \"chlor_a\", \n",
    "            \"filename\": \"../../datasets/modis/AQUA_MODIS.20230101_20230131.L3m.MO.CHL.chlor_a.4km.nc\",\n",
    "            \"description\": \"chlorophyll\"\n",
    "        },\n",
    "        { # 1\n",
    "            \"type\": \"sst\",\n",
    "            \"filename\": \"../../datasets/modis/AQUA_MODIS.20230101_20230131.L3m.MO.SST.sst.4km.nc\",\n",
    "            \"description\": \"sea surface temperature\"\n",
    "        },\n",
    "        { # 2\n",
    "            \"type\": \"poc\",\n",
    "            \"filename\": \"../../datasets/modis/AQUA_MODIS.20230101.L3m.DAY.POC.poc.4km.nc\",\n",
    "            \"description\": \"Particulate Organic Carbon\"\n",
    "        }\n",
    "]\n",
    "\n",
    "mode = modes[1]"
   ]
  },
  {
   "cell_type": "markdown",
   "id": "76671f8b-77d3-4c01-abb9-3d861f620874",
   "metadata": {},
   "source": [
    "## read data"
   ]
  },
  {
   "cell_type": "code",
   "execution_count": 36,
   "id": "8d0940e6-5610-4901-bd1f-b28e45341d48",
   "metadata": {},
   "outputs": [],
   "source": [
    "# read the data\n",
    "data = nc.Dataset(mode[\"filename\"], \"r\")"
   ]
  },
  {
   "cell_type": "markdown",
   "id": "6bd3df59-0172-45d9-9cfa-9f8a9756d550",
   "metadata": {},
   "source": [
    "## modify"
   ]
  },
  {
   "cell_type": "code",
   "execution_count": 37,
   "id": "75d59014-9f8f-4844-b6d1-8ccb71c6cbec",
   "metadata": {},
   "outputs": [
    {
     "name": "stdout",
     "output_type": "stream",
     "text": [
      "=== GLOBAL ATTRIBUTES ===\n",
      "product_name: AQUA_MODIS.20230101_20230131.L3m.MO.SST.sst.4km.nc\n",
      "instrument: MODIS\n",
      "title: MODISA Level-3 Standard Mapped Image\n",
      "project: Ocean Biology Processing Group (NASA/GSFC/OBPG)\n",
      "platform: Aqua\n",
      "source: satellite observations from MODIS-Aqua\n",
      "temporal_range: month\n",
      "processing_version: R2019.0\n",
      "date_created: 2023-02-20T20:27:04.000Z\n",
      "history: l3mapgen par=AQUA_MODIS.20230101_20230131.L3m.MO.SST.sst.4km.nc.param \n",
      "l2_flag_names: LAND,HISOLZEN\n",
      "time_coverage_start: 2023-01-01T00:15:00.000Z\n",
      "time_coverage_end: 2023-02-01T02:24:59.000Z\n",
      "start_orbit_number: 109901\n",
      "end_orbit_number: 110353\n",
      "map_projection: Equidistant Cylindrical\n",
      "latitude_units: degrees_north\n",
      "longitude_units: degrees_east\n",
      "northernmost_latitude: 90.0\n",
      "southernmost_latitude: -90.0\n",
      "westernmost_longitude: -180.0\n",
      "easternmost_longitude: 180.0\n",
      "geospatial_lat_max: 90.0\n",
      "geospatial_lat_min: -90.0\n",
      "geospatial_lon_max: 180.0\n",
      "geospatial_lon_min: -180.0\n",
      "latitude_step: 0.0416666679084301\n",
      "longitude_step: 0.0416666679084301\n",
      "sw_point_latitude: -89.97916412353516\n",
      "sw_point_longitude: -179.9791717529297\n",
      "spatialResolution: 4.638312 km\n",
      "geospatial_lon_resolution: 4.638312 km\n",
      "geospatial_lat_resolution: 4.638312 km\n",
      "geospatial_lat_units: degrees_north\n",
      "geospatial_lon_units: degrees_east\n",
      "number_of_lines: 4320\n",
      "number_of_columns: 8640\n",
      "measure: Mean\n",
      "suggested_image_scaling_minimum: -2.0\n",
      "suggested_image_scaling_maximum: 45.0\n",
      "suggested_image_scaling_type: LINEAR\n",
      "suggested_image_scaling_applied: No\n",
      "_lastModified: 2023-02-20T20:27:04.000Z\n",
      "Conventions: CF-1.6 ACDD-1.3\n",
      "institution: NASA Goddard Space Flight Center, Ocean Ecology Laboratory, Ocean Biology Processing Group\n",
      "standard_name_vocabulary: CF Standard Name Table v36\n",
      "naming_authority: gov.nasa.gsfc.sci.oceandata\n",
      "id: R2019.0/L3/AQUA_MODIS.20230101_20230131.L3b.MO.SST.nc\n",
      "license: https://science.nasa.gov/earth-science/earth-science-data/data-information-policy/\n",
      "creator_name: NASA/GSFC/OBPG\n",
      "publisher_name: NASA/GSFC/OBPG\n",
      "creator_email: data@oceancolor.gsfc.nasa.gov\n",
      "publisher_email: data@oceancolor.gsfc.nasa.gov\n",
      "creator_url: https://oceandata.sci.gsfc.nasa.gov\n",
      "publisher_url: https://oceandata.sci.gsfc.nasa.gov\n",
      "processing_level: L3 Mapped\n",
      "cdm_data_type: grid\n",
      "keywords: Earth Science > Oceans > Ocean Optics > Sea Surface Temperature\n",
      "keywords_vocabulary: NASA Global Change Master Directory (GCMD) Science Keywords\n",
      "data_bins: 20544446\n",
      "data_minimum: -1.8000000715255737\n",
      "data_maximum: 39.98500061035156\n",
      "\n",
      "=== DIMENSIONS ===\n",
      "lat: 4320\n",
      "lon: 8640\n",
      "rgb: 3\n",
      "eightbitcolor: 256\n",
      "\n",
      "=== VARIABLES ===\n",
      "sst: <class 'netCDF4._netCDF4.Variable'>\n",
      "int16 sst(lat, lon)\n",
      "    long_name: Sea Surface Temperature\n",
      "    scale_factor: 0.005\n",
      "    add_offset: 0.0\n",
      "    units: degree_C\n",
      "    standard_name: sea_surface_temperature\n",
      "    _FillValue: -32767\n",
      "    valid_min: -1000\n",
      "    valid_max: 10000\n",
      "    display_scale: linear\n",
      "    display_min: -2.0\n",
      "    display_max: 45.0\n",
      "unlimited dimensions: \n",
      "current shape = (4320, 8640)\n",
      "filling on\n",
      "qual_sst: <class 'netCDF4._netCDF4.Variable'>\n",
      "uint8 qual_sst(lat, lon)\n",
      "    long_name: Quality Levels, Sea Surface Temperature\n",
      "    _FillValue: 255\n",
      "    valid_min: 0\n",
      "    valid_max: 5\n",
      "unlimited dimensions: \n",
      "current shape = (4320, 8640)\n",
      "filling on\n",
      "lat: <class 'netCDF4._netCDF4.Variable'>\n",
      "float32 lat(lat)\n",
      "    long_name: Latitude\n",
      "    units: degrees_north\n",
      "    standard_name: latitude\n",
      "    _FillValue: -999.0\n",
      "    valid_min: -90.0\n",
      "    valid_max: 90.0\n",
      "unlimited dimensions: \n",
      "current shape = (4320,)\n",
      "filling on\n",
      "lon: <class 'netCDF4._netCDF4.Variable'>\n",
      "float32 lon(lon)\n",
      "    long_name: Longitude\n",
      "    units: degrees_east\n",
      "    standard_name: longitude\n",
      "    _FillValue: -999.0\n",
      "    valid_min: -180.0\n",
      "    valid_max: 180.0\n",
      "unlimited dimensions: \n",
      "current shape = (8640,)\n",
      "filling on\n",
      "palette: <class 'netCDF4._netCDF4.Variable'>\n",
      "uint8 palette(rgb, eightbitcolor)\n",
      "unlimited dimensions: \n",
      "current shape = (3, 256)\n",
      "filling on, default _FillValue of 255 ignored\n",
      "\n",
      "=== GROUPS ===\n",
      "processing_control\n"
     ]
    }
   ],
   "source": [
    "print(\"=== GLOBAL ATTRIBUTES ===\")\n",
    "for attr in data.ncattrs():\n",
    "    print(f\"{attr}: {data.getncattr(attr)}\")\n",
    "\n",
    "print(\"\\n=== DIMENSIONS ===\")\n",
    "for dim, dim_info in data.dimensions.items():\n",
    "    print(f\"{dim}: {len(dim_info)}\")\n",
    "\n",
    "print(\"\\n=== VARIABLES ===\")\n",
    "for var, var_info in data.variables.items():\n",
    "    print(f\"{var}: {var_info}\")\n",
    "\n",
    "print(\"\\n=== GROUPS ===\")\n",
    "for group in data.groups:\n",
    "    print(group)\n",
    "\n",
    "# read latitude, longitude and poc data\n",
    "latitude = data.variables['lat'][:]\n",
    "longitude = data.variables['lon'][:]\n",
    "poc_data = data.variables[mode[\"type\"]][:]\n",
    "\n",
    "# replace fill values with NaN for better plotting\n",
    "fill_value = data.variables[mode[\"type\"]]._FillValue\n",
    "poc_data = np.where(poc_data == fill_value, np.nan, poc_data)\n",
    "\n",
    "# # apply the scale_factor and add_offset\n",
    "# scale_factor = data.variables['chlor_a'].scale_factor\n",
    "# add_offset = data.variables['chlor_a'].add_offset\n",
    "# poc_data = poc_data * scale_factor + add_offset"
   ]
  },
  {
   "cell_type": "markdown",
   "id": "e924f70a-41c2-48d9-ab8e-31d875a77e63",
   "metadata": {},
   "source": [
    "## crop by coordinates (doesn't work for christina)"
   ]
  },
  {
   "cell_type": "code",
   "execution_count": 38,
   "id": "abae4c4f-836f-45d8-89eb-70f699dc1407",
   "metadata": {},
   "outputs": [
    {
     "ename": "OSError",
     "evalue": "Error loading libpng16-de2e8f951cb75e05f5d95ceeeda9a11f.dll; Das angegebene Modul wurde nicht gefunden.",
     "output_type": "error",
     "traceback": [
      "\u001b[1;31m---------------------------------------------------------------------------\u001b[0m",
      "\u001b[1;31mOSError\u001b[0m                                   Traceback (most recent call last)",
      "\u001b[1;32m~\\AppData\\Local\\Temp\\ipykernel_19812\\3714360013.py\u001b[0m in \u001b[0;36m<cell line: 3>\u001b[1;34m()\u001b[0m\n\u001b[0;32m      1\u001b[0m \u001b[1;31m# read and plot the GeoJSON file\u001b[0m\u001b[1;33m\u001b[0m\u001b[1;33m\u001b[0m\u001b[0m\n\u001b[0;32m      2\u001b[0m \u001b[0mgeojson_file\u001b[0m \u001b[1;33m=\u001b[0m \u001b[1;34m'map22.geojson'\u001b[0m  \u001b[1;31m# replace with your GeoJSON file path\u001b[0m\u001b[1;33m\u001b[0m\u001b[1;33m\u001b[0m\u001b[0m\n\u001b[1;32m----> 3\u001b[1;33m \u001b[0mgdf\u001b[0m \u001b[1;33m=\u001b[0m \u001b[0mgpd\u001b[0m\u001b[1;33m.\u001b[0m\u001b[0mread_file\u001b[0m\u001b[1;33m(\u001b[0m\u001b[0mgeojson_file\u001b[0m\u001b[1;33m)\u001b[0m\u001b[1;33m\u001b[0m\u001b[1;33m\u001b[0m\u001b[0m\n\u001b[0m\u001b[0;32m      4\u001b[0m \u001b[1;33m\u001b[0m\u001b[0m\n\u001b[0;32m      5\u001b[0m \u001b[1;32mfor\u001b[0m \u001b[0mpolygon\u001b[0m \u001b[1;32min\u001b[0m \u001b[0mgdf\u001b[0m\u001b[1;33m.\u001b[0m\u001b[0mgeometry\u001b[0m\u001b[1;33m:\u001b[0m\u001b[1;33m\u001b[0m\u001b[1;33m\u001b[0m\u001b[0m\n",
      "\u001b[1;32m~\\anaconda3\\envs\\feta\\lib\\site-packages\\geopandas\\io\\file.py\u001b[0m in \u001b[0;36m_read_file\u001b[1;34m(filename, bbox, mask, rows, engine, **kwargs)\u001b[0m\n\u001b[0;32m    269\u001b[0m \u001b[1;33m\u001b[0m\u001b[0m\n\u001b[0;32m    270\u001b[0m     \"\"\"\n\u001b[1;32m--> 271\u001b[1;33m     \u001b[0mengine\u001b[0m \u001b[1;33m=\u001b[0m \u001b[0m_check_engine\u001b[0m\u001b[1;33m(\u001b[0m\u001b[0mengine\u001b[0m\u001b[1;33m,\u001b[0m \u001b[1;34m\"'read_file' function\"\u001b[0m\u001b[1;33m)\u001b[0m\u001b[1;33m\u001b[0m\u001b[1;33m\u001b[0m\u001b[0m\n\u001b[0m\u001b[0;32m    272\u001b[0m \u001b[1;33m\u001b[0m\u001b[0m\n\u001b[0;32m    273\u001b[0m     \u001b[0mfilename\u001b[0m \u001b[1;33m=\u001b[0m \u001b[0m_expand_user\u001b[0m\u001b[1;33m(\u001b[0m\u001b[0mfilename\u001b[0m\u001b[1;33m)\u001b[0m\u001b[1;33m\u001b[0m\u001b[1;33m\u001b[0m\u001b[0m\n",
      "\u001b[1;32m~\\anaconda3\\envs\\feta\\lib\\site-packages\\geopandas\\io\\file.py\u001b[0m in \u001b[0;36m_check_engine\u001b[1;34m(engine, func)\u001b[0m\n\u001b[0;32m    103\u001b[0m \u001b[1;33m\u001b[0m\u001b[0m\n\u001b[0;32m    104\u001b[0m     \u001b[1;32mif\u001b[0m \u001b[0mengine\u001b[0m \u001b[1;32mis\u001b[0m \u001b[1;32mNone\u001b[0m\u001b[1;33m:\u001b[0m\u001b[1;33m\u001b[0m\u001b[1;33m\u001b[0m\u001b[0m\n\u001b[1;32m--> 105\u001b[1;33m         \u001b[0m_import_fiona\u001b[0m\u001b[1;33m(\u001b[0m\u001b[1;33m)\u001b[0m\u001b[1;33m\u001b[0m\u001b[1;33m\u001b[0m\u001b[0m\n\u001b[0m\u001b[0;32m    106\u001b[0m         \u001b[1;32mif\u001b[0m \u001b[0mfiona\u001b[0m\u001b[1;33m:\u001b[0m\u001b[1;33m\u001b[0m\u001b[1;33m\u001b[0m\u001b[0m\n\u001b[0;32m    107\u001b[0m             \u001b[0mengine\u001b[0m \u001b[1;33m=\u001b[0m \u001b[1;34m\"fiona\"\u001b[0m\u001b[1;33m\u001b[0m\u001b[1;33m\u001b[0m\u001b[0m\n",
      "\u001b[1;32m~\\anaconda3\\envs\\feta\\lib\\site-packages\\geopandas\\io\\file.py\u001b[0m in \u001b[0;36m_import_fiona\u001b[1;34m()\u001b[0m\n\u001b[0;32m     40\u001b[0m     \u001b[1;32mif\u001b[0m \u001b[0mfiona\u001b[0m \u001b[1;32mis\u001b[0m \u001b[1;32mNone\u001b[0m\u001b[1;33m:\u001b[0m\u001b[1;33m\u001b[0m\u001b[1;33m\u001b[0m\u001b[0m\n\u001b[0;32m     41\u001b[0m         \u001b[1;32mtry\u001b[0m\u001b[1;33m:\u001b[0m\u001b[1;33m\u001b[0m\u001b[1;33m\u001b[0m\u001b[0m\n\u001b[1;32m---> 42\u001b[1;33m             \u001b[1;32mimport\u001b[0m \u001b[0mfiona\u001b[0m\u001b[1;33m\u001b[0m\u001b[1;33m\u001b[0m\u001b[0m\n\u001b[0m\u001b[0;32m     43\u001b[0m \u001b[1;33m\u001b[0m\u001b[0m\n\u001b[0;32m     44\u001b[0m             \u001b[1;31m# only try to import fiona.Env if the main fiona import succeeded\u001b[0m\u001b[1;33m\u001b[0m\u001b[1;33m\u001b[0m\u001b[0m\n",
      "\u001b[1;32m~\\anaconda3\\envs\\feta\\lib\\site-packages\\fiona\\__init__.py\u001b[0m in \u001b[0;36m<module>\u001b[1;34m\u001b[0m\n\u001b[0;32m     44\u001b[0m \u001b[1;33m\u001b[0m\u001b[0m\n\u001b[0;32m     45\u001b[0m \u001b[1;33m\u001b[0m\u001b[0m\n\u001b[1;32m---> 46\u001b[1;33m \u001b[0m_delvewheel_init_patch_1_3_7\u001b[0m\u001b[1;33m(\u001b[0m\u001b[1;33m)\u001b[0m\u001b[1;33m\u001b[0m\u001b[1;33m\u001b[0m\u001b[0m\n\u001b[0m\u001b[0;32m     47\u001b[0m \u001b[1;32mdel\u001b[0m \u001b[0m_delvewheel_init_patch_1_3_7\u001b[0m\u001b[1;33m\u001b[0m\u001b[1;33m\u001b[0m\u001b[0m\n\u001b[0;32m     48\u001b[0m \u001b[1;31m# end delvewheel patch\u001b[0m\u001b[1;33m\u001b[0m\u001b[1;33m\u001b[0m\u001b[0m\n",
      "\u001b[1;32m~\\anaconda3\\envs\\feta\\lib\\site-packages\\fiona\\__init__.py\u001b[0m in \u001b[0;36m_delvewheel_init_patch_1_3_7\u001b[1;34m()\u001b[0m\n\u001b[0;32m     41\u001b[0m                 \u001b[0mlib_path\u001b[0m \u001b[1;33m=\u001b[0m \u001b[0mos\u001b[0m\u001b[1;33m.\u001b[0m\u001b[0mpath\u001b[0m\u001b[1;33m.\u001b[0m\u001b[0mjoin\u001b[0m\u001b[1;33m(\u001b[0m\u001b[0mos\u001b[0m\u001b[1;33m.\u001b[0m\u001b[0mpath\u001b[0m\u001b[1;33m.\u001b[0m\u001b[0mjoin\u001b[0m\u001b[1;33m(\u001b[0m\u001b[0mlibs_dir\u001b[0m\u001b[1;33m,\u001b[0m \u001b[0mlib\u001b[0m\u001b[1;33m)\u001b[0m\u001b[1;33m)\u001b[0m\u001b[1;33m\u001b[0m\u001b[1;33m\u001b[0m\u001b[0m\n\u001b[0;32m     42\u001b[0m                 \u001b[1;32mif\u001b[0m \u001b[0mos\u001b[0m\u001b[1;33m.\u001b[0m\u001b[0mpath\u001b[0m\u001b[1;33m.\u001b[0m\u001b[0misfile\u001b[0m\u001b[1;33m(\u001b[0m\u001b[0mlib_path\u001b[0m\u001b[1;33m)\u001b[0m \u001b[1;32mand\u001b[0m \u001b[1;32mnot\u001b[0m \u001b[0mctypes\u001b[0m\u001b[1;33m.\u001b[0m\u001b[0mwindll\u001b[0m\u001b[1;33m.\u001b[0m\u001b[0mkernel32\u001b[0m\u001b[1;33m.\u001b[0m\u001b[0mLoadLibraryExW\u001b[0m\u001b[1;33m(\u001b[0m\u001b[0mctypes\u001b[0m\u001b[1;33m.\u001b[0m\u001b[0mc_wchar_p\u001b[0m\u001b[1;33m(\u001b[0m\u001b[0mlib_path\u001b[0m\u001b[1;33m)\u001b[0m\u001b[1;33m,\u001b[0m \u001b[1;32mNone\u001b[0m\u001b[1;33m,\u001b[0m \u001b[1;36m0x00000008\u001b[0m\u001b[1;33m)\u001b[0m\u001b[1;33m:\u001b[0m\u001b[1;33m\u001b[0m\u001b[1;33m\u001b[0m\u001b[0m\n\u001b[1;32m---> 43\u001b[1;33m                     \u001b[1;32mraise\u001b[0m \u001b[0mOSError\u001b[0m\u001b[1;33m(\u001b[0m\u001b[1;34m'Error loading {}; {}'\u001b[0m\u001b[1;33m.\u001b[0m\u001b[0mformat\u001b[0m\u001b[1;33m(\u001b[0m\u001b[0mlib\u001b[0m\u001b[1;33m,\u001b[0m \u001b[0mctypes\u001b[0m\u001b[1;33m.\u001b[0m\u001b[0mFormatError\u001b[0m\u001b[1;33m(\u001b[0m\u001b[1;33m)\u001b[0m\u001b[1;33m)\u001b[0m\u001b[1;33m)\u001b[0m\u001b[1;33m\u001b[0m\u001b[1;33m\u001b[0m\u001b[0m\n\u001b[0m\u001b[0;32m     44\u001b[0m \u001b[1;33m\u001b[0m\u001b[0m\n\u001b[0;32m     45\u001b[0m \u001b[1;33m\u001b[0m\u001b[0m\n",
      "\u001b[1;31mOSError\u001b[0m: Error loading libpng16-de2e8f951cb75e05f5d95ceeeda9a11f.dll; Das angegebene Modul wurde nicht gefunden."
     ]
    }
   ],
   "source": [
    "# read and plot the GeoJSON file\n",
    "geojson_file = 'map22.geojson'  # replace with your GeoJSON file path\n",
    "gdf = gpd.read_file(geojson_file)\n",
    "\n",
    "for polygon in gdf.geometry:\n",
    "    x,y = polygon.exterior.xy\n",
    "    plt.plot(x, y, color=\"red\")  # adjust the color as you like\n",
    "\n",
    "# to zoom into the region covered by the GeoJSON file\n",
    "x_min, y_min, x_max, y_max = gdf.total_bounds\n",
    "\n",
    "# set any data below 0 to np.nan\n",
    "my_poc_data = np.where(poc_data < 0, np.nan, poc_data)\n",
    "\n",
    "# print the max and min values of my_poc_data\n",
    "print(np.nanmax(my_poc_data))\n",
    "print('----')\n",
    "print(np.nanmin(my_poc_data))"
   ]
  },
  {
   "cell_type": "markdown",
   "id": "9c02f4f4-0540-4cbb-a56e-76ffacd57882",
   "metadata": {},
   "source": [
    "# visualisation"
   ]
  },
  {
   "cell_type": "markdown",
   "id": "433eb13b-f39c-46c6-b4be-dcff35236aa4",
   "metadata": {},
   "source": [
    "## chlorophyll"
   ]
  },
  {
   "cell_type": "markdown",
   "id": "7f6722d2-4de5-4a81-9cad-a48e1b652fad",
   "metadata": {},
   "source": [
    "### save mapped image (chlor_a)"
   ]
  },
  {
   "cell_type": "code",
   "execution_count": 39,
   "id": "3a210865-daa1-4425-83e0-8da33c77adfc",
   "metadata": {},
   "outputs": [],
   "source": [
    "if mode[\"type\"] == \"chlor_a\":\n",
    "    plt.figure(figsize=(12, 6))\n",
    "    plt.pcolormesh(longitude, latitude, poc_data)\n",
    "    plt.colorbar(label='Chlorophyll-a (mg m^-3)')\n",
    "    plt.xlabel('Longitude (degrees east)')\n",
    "    plt.ylabel('Latitude (degrees north)')\n",
    "    plt.title('MODISA Level-3 Standard Mapped Image for Chlorophyll-a')\n",
    "    plt.savefig('tmp/modis_chl.png')\n",
    "    plt.close()"
   ]
  },
  {
   "cell_type": "markdown",
   "id": "3bac784a-f296-4fad-afdf-78142767b3a0",
   "metadata": {},
   "source": [
    "### save histogram (chlor_a)"
   ]
  },
  {
   "cell_type": "code",
   "execution_count": 40,
   "id": "6791251c-8efb-4ad1-aaa4-b72692502ac8",
   "metadata": {},
   "outputs": [],
   "source": [
    "if mode[\"type\"] == \"chlor_a\":\n",
    "    # plot a histogram of the data excluding values below 1000\n",
    "    plt.figure(figsize=(12, 6))\n",
    "    plt.hist(poc_data[~np.isnan(poc_data)], bins=100, range=(0, 87))\n",
    "    plt.xlabel('Chlorophyll-a (mg m^-3)')\n",
    "    plt.ylabel('Frequency')\n",
    "    plt.title('Histogram of chlorophyll-a data')\n",
    "    plt.savefig('tmp/modis_chl_hist.png')\n",
    "    plt.close()"
   ]
  },
  {
   "cell_type": "markdown",
   "id": "b0feb83f-67d3-4b30-b244-94d713f877e2",
   "metadata": {},
   "source": [
    "### saved cropped image (chlor_a)"
   ]
  },
  {
   "cell_type": "code",
   "execution_count": 41,
   "id": "4b022612-c9ea-4a75-9268-fbc36bc3bbae",
   "metadata": {},
   "outputs": [],
   "source": [
    "if mode[\"type\"] == \"chlor_a\":\n",
    "\n",
    "    # set min and max value\n",
    "    min_value = 0\n",
    "    max_value = 20\n",
    "\n",
    "    # plot data\n",
    "    plt.figure(figsize=(12, 6))\n",
    "    plt.pcolormesh(longitude, latitude, poc_data)\n",
    "    plt.colorbar(label='Chlorophyll-a (mg m^-3)')\n",
    "    plt.xlabel('Longitude (degrees east)')\n",
    "    plt.ylabel('Latitude (degrees north)')\n",
    "    plt.title('MODISA Level-3 Standard Mapped Image for Chlorophyll-a')\n",
    "    plt.xlim(x_min, x_max)\n",
    "    plt.ylim(y_min, y_max)\n",
    "    plt.clim(min_value, max_value)\n",
    "    plt.savefig('tmp/modis_chl_crop.png')\n",
    "    plt.close()"
   ]
  },
  {
   "cell_type": "markdown",
   "id": "4a3024e0-a92b-46e8-969b-e7ad17c65a2c",
   "metadata": {},
   "source": [
    "## sea surface temperature"
   ]
  },
  {
   "cell_type": "markdown",
   "id": "42e7f7b2-c484-4a88-8abc-04ef73d2330e",
   "metadata": {},
   "source": [
    "### save mapped image (sst)"
   ]
  },
  {
   "cell_type": "code",
   "execution_count": 45,
   "id": "6748c7ce-d21d-47f3-95ee-6ab7c351498a",
   "metadata": {},
   "outputs": [
    {
     "name": "stderr",
     "output_type": "stream",
     "text": [
      "C:\\Users\\Prinzessin\\AppData\\Local\\Temp\\ipykernel_19812\\711677019.py:3: MatplotlibDeprecationWarning: shading='flat' when X and Y have the same dimensions as C is deprecated since 3.3.  Either specify the corners of the quadrilaterals with X and Y, or pass shading='auto', 'nearest' or 'gouraud', or set rcParams['pcolor.shading'].  This will become an error two minor releases later.\n",
      "  plt.pcolormesh(longitude, latitude, poc_data)\n"
     ]
    }
   ],
   "source": [
    "if mode[\"type\"] == \"sst\":\n",
    "    plt.figure(figsize=(12, 6))\n",
    "    plt.pcolormesh(longitude, latitude, poc_data)\n",
    "    plt.colorbar(label='Temperature')\n",
    "    plt.xlabel('Longitude (degrees east)')\n",
    "    plt.ylabel('Latitude (degrees north)')\n",
    "    plt.title('MODISA Level-3 Standard Mapped Image for SST')\n",
    "    plt.savefig('tmp/modis_sst.png')\n",
    "    plt.close()"
   ]
  },
  {
   "cell_type": "markdown",
   "id": "036ebe9e-126c-4caa-b5f1-bbc7a59e99e2",
   "metadata": {
    "tags": []
   },
   "source": [
    "### save histogram (sst)"
   ]
  },
  {
   "cell_type": "code",
   "execution_count": 43,
   "id": "ecdd49d3-c7aa-44a1-905e-d76e3778625e",
   "metadata": {},
   "outputs": [],
   "source": [
    "if mode[\"type\"] == \"sst\":\n",
    "    # todo - does the range make sense??\n",
    "    # plot a histogram of the data excluding values below 1000\n",
    "    plt.figure(figsize=(12, 6))\n",
    "    plt.hist(poc_data[~np.isnan(poc_data)], bins=100, range=(0, 87))\n",
    "    plt.xlabel('')\n",
    "    plt.ylabel('')\n",
    "    plt.title('Histogram of temperature data')\n",
    "    plt.savefig('tmp/modis_sst_hist.png')\n",
    "    plt.close()"
   ]
  },
  {
   "cell_type": "markdown",
   "id": "c1cbd200-03e5-4aa0-9c6c-913b953e1ae2",
   "metadata": {},
   "source": [
    "### save cropped mapped image (sst)"
   ]
  },
  {
   "cell_type": "code",
   "execution_count": 44,
   "id": "15e4623f-0f2b-4153-a9e2-7968b55b32ba",
   "metadata": {},
   "outputs": [
    {
     "name": "stderr",
     "output_type": "stream",
     "text": [
      "C:\\Users\\Prinzessin\\AppData\\Local\\Temp\\ipykernel_19812\\1832939934.py:8: MatplotlibDeprecationWarning: shading='flat' when X and Y have the same dimensions as C is deprecated since 3.3.  Either specify the corners of the quadrilaterals with X and Y, or pass shading='auto', 'nearest' or 'gouraud', or set rcParams['pcolor.shading'].  This will become an error two minor releases later.\n",
      "  plt.pcolormesh(longitude, latitude, poc_data)\n"
     ]
    },
    {
     "ename": "NameError",
     "evalue": "name 'x_min' is not defined",
     "output_type": "error",
     "traceback": [
      "\u001b[1;31m---------------------------------------------------------------------------\u001b[0m",
      "\u001b[1;31mNameError\u001b[0m                                 Traceback (most recent call last)",
      "\u001b[1;32m~\\AppData\\Local\\Temp\\ipykernel_19812\\1832939934.py\u001b[0m in \u001b[0;36m<cell line: 1>\u001b[1;34m()\u001b[0m\n\u001b[0;32m     11\u001b[0m     \u001b[0mplt\u001b[0m\u001b[1;33m.\u001b[0m\u001b[0mylabel\u001b[0m\u001b[1;33m(\u001b[0m\u001b[1;34m'Latitude (degrees north)'\u001b[0m\u001b[1;33m)\u001b[0m\u001b[1;33m\u001b[0m\u001b[1;33m\u001b[0m\u001b[0m\n\u001b[0;32m     12\u001b[0m     \u001b[0mplt\u001b[0m\u001b[1;33m.\u001b[0m\u001b[0mtitle\u001b[0m\u001b[1;33m(\u001b[0m\u001b[1;34m'MODISA Level-3 Standard Mapped Image for SST'\u001b[0m\u001b[1;33m)\u001b[0m\u001b[1;33m\u001b[0m\u001b[1;33m\u001b[0m\u001b[0m\n\u001b[1;32m---> 13\u001b[1;33m     \u001b[0mplt\u001b[0m\u001b[1;33m.\u001b[0m\u001b[0mxlim\u001b[0m\u001b[1;33m(\u001b[0m\u001b[0mx_min\u001b[0m\u001b[1;33m,\u001b[0m \u001b[0mx_max\u001b[0m\u001b[1;33m)\u001b[0m\u001b[1;33m\u001b[0m\u001b[1;33m\u001b[0m\u001b[0m\n\u001b[0m\u001b[0;32m     14\u001b[0m     \u001b[0mplt\u001b[0m\u001b[1;33m.\u001b[0m\u001b[0mylim\u001b[0m\u001b[1;33m(\u001b[0m\u001b[0my_min\u001b[0m\u001b[1;33m,\u001b[0m \u001b[0my_max\u001b[0m\u001b[1;33m)\u001b[0m\u001b[1;33m\u001b[0m\u001b[1;33m\u001b[0m\u001b[0m\n\u001b[0;32m     15\u001b[0m     \u001b[0mplt\u001b[0m\u001b[1;33m.\u001b[0m\u001b[0mclim\u001b[0m\u001b[1;33m(\u001b[0m\u001b[0mmin_value\u001b[0m\u001b[1;33m,\u001b[0m \u001b[0mmax_value\u001b[0m\u001b[1;33m)\u001b[0m\u001b[1;33m\u001b[0m\u001b[1;33m\u001b[0m\u001b[0m\n",
      "\u001b[1;31mNameError\u001b[0m: name 'x_min' is not defined"
     ]
    },
    {
     "data": {
      "image/png": "[encoded data removed]",
      "text/plain": [
       "<Figure size 864x432 with 2 Axes>"
      ]
     },
     "metadata": {
      "needs_background": "light"
     },
     "output_type": "display_data"
    }
   ],
   "source": [
    "if mode[\"type\"] == \"sst\":\n",
    "    # set min and max value\n",
    "    min_value = 0\n",
    "    max_value = 20\n",
    "\n",
    "    # plot data\n",
    "    plt.figure(figsize=(12, 6))\n",
    "    plt.pcolormesh(longitude, latitude, poc_data)\n",
    "    plt.colorbar(label='Sea Surface Temperature')\n",
    "    plt.xlabel('Longitude (degrees east)')\n",
    "    plt.ylabel('Latitude (degrees north)')\n",
    "    plt.title('MODISA Level-3 Standard Mapped Image for SST')\n",
    "    plt.xlim(x_min, x_max)\n",
    "    plt.ylim(y_min, y_max)\n",
    "    plt.clim(min_value, max_value)\n",
    "    plt.savefig('tmp/modis_sst_crop.png')\n",
    "    plt.close()"
   ]
  },
  {
   "cell_type": "markdown",
   "id": "5c5f3c8b-3ee0-489e-9d3a-90fdf7da5936",
   "metadata": {},
   "source": [
    "## particulate organic carbon"
   ]
  },
  {
   "cell_type": "markdown",
   "id": "eeec3ab6-d2c9-49ff-939e-637771905382",
   "metadata": {},
   "source": [
    "### save mapped image (poc)"
   ]
  },
  {
   "cell_type": "code",
   "execution_count": 46,
   "id": "609878c1-5432-4efc-92a5-bb21bb6c242e",
   "metadata": {},
   "outputs": [],
   "source": [
    "if mode[\"type\"] == \"poc\":\n",
    "\n",
    "    # apply the scale_factor and add_offset\n",
    "    scale_factor = data.variables['poc'].scale_factor\n",
    "    add_offset = data.variables['poc'].add_offset\n",
    "    poc_data = poc_data * scale_factor + add_offset\n",
    "\n",
    "    # plot data\n",
    "    plt.figure(figsize=(12, 6))\n",
    "    plt.pcolormesh(longitude, latitude, poc_data)\n",
    "    plt.colorbar(label='Particulate Organic Carbon (mg m^-3)')\n",
    "    plt.xlabel('Longitude (degrees east)')\n",
    "    plt.ylabel('Latitude (degrees north)')\n",
    "    plt.title('MODISA Level-3 Standard Mapped Image for POC')\n",
    "    plt.savefig('modis_poc.png')\n",
    "    plt.close()"
   ]
  },
  {
   "cell_type": "markdown",
   "id": "4eb92e2e-42b6-4c93-9734-f46f76ec500e",
   "metadata": {},
   "source": [
    "### save cropped image (poc)"
   ]
  },
  {
   "cell_type": "code",
   "execution_count": null,
   "id": "bacdda2f-67a8-4eca-b322-e76996b457f1",
   "metadata": {},
   "outputs": [],
   "source": [
    "if mode[\"type\"] == \"poc\":\n",
    "\n",
    "    # plot data\n",
    "    plt.figure(figsize=(12, 6))\n",
    "    plt.pcolormesh(longitude, latitude, poc_data)\n",
    "    plt.colorbar(label='Particulate Organic Carbon (mg m^-3)')\n",
    "    plt.xlabel('Longitude (degrees east)')\n",
    "    plt.ylabel('Latitude (degrees north)')\n",
    "    plt.title('MODISA Level-3 Standard Mapped Image for POC')\n",
    "    plt.xlim(x_min, x_max)\n",
    "    plt.ylim(y_min, y_max)\n",
    "    plt.savefig('modis_poc_crop.png')\n",
    "    plt.close()"
   ]
  }
 ],
 "metadata": {
  "kernelspec": {
   "display_name": "Python 3 (ipykernel)",
   "language": "python",
   "name": "python3"
  },
  "language_info": {
   "codemirror_mode": {
    "name": "ipython",
    "version": 3
   },
   "file_extension": ".py",
   "mimetype": "text/x-python",
   "name": "python",
   "nbconvert_exporter": "python",
   "pygments_lexer": "ipython3",
   "version": "3.9.10"
  }
 },
 "nbformat": 4,
 "nbformat_minor": 5
}
