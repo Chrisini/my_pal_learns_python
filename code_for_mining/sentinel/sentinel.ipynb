{
 "cells": [
  {
   "cell_type": "markdown",
   "id": "db6a8708-8d1e-4b0d-ae04-e322c38de09c",
   "metadata": {},
   "source": [
    "# this never worked"
   ]
  },
  {
   "cell_type": "code",
   "execution_count": 2,
   "id": "125cc3a6-5104-47b0-a879-36d08a1e495d",
   "metadata": {},
   "outputs": [
    {
     "ename": "SyntaxError",
     "evalue": "invalid syntax (2096776775.py, line 8)",
     "output_type": "error",
     "traceback": [
      "\u001b[1;36m  File \u001b[1;32m\"C:\\Users\\Prinzessin\\AppData\\Local\\Temp\\ipykernel_8636\\2096776775.py\"\u001b[1;36m, line \u001b[1;32m8\u001b[0m\n\u001b[1;33m    api.download(<product_id>)\u001b[0m\n\u001b[1;37m                 ^\u001b[0m\n\u001b[1;31mSyntaxError\u001b[0m\u001b[1;31m:\u001b[0m invalid syntax\n"
     ]
    }
   ],
   "source": [
    "from sentinelsat import SentinelAPI, read_geojson, geojson_to_wkt\n",
    "from datetime import date\n",
    "\n",
    "# connect to the API\n",
    "api = SentinelAPI('senv_team', 'ketchup&Mustard1', 'https://apihub.copernicus.eu/apihub')\n",
    "\n",
    "# download single scene by known product id\n",
    "api.download(<product_id>)\n",
    "\n",
    "# search by polygon, time, and Hub query keywords\n",
    "footprint = geojson_to_wkt(read_geojson('map.geojson'))\n",
    "products = api.query(footprint,\n",
    "                     date = ('20151219', date(2015, 12, 29)),\n",
    "                     platformname = 'Sentinel-2',\n",
    "                     cloudcoverpercentage = (0, 30))\n",
    "\n",
    "# download all results from the search\n",
    "api.download_all(products)\n",
    "\n",
    "# GeoJSON FeatureCollection containing footprints and metadata of the scenes\n",
    "api.to_geojson(products)\n",
    "\n",
    "# GeoPandas GeoDataFrame with the metadata of the scenes and the footprints as geometries\n",
    "api.to_geodataframe(products)\n",
    "\n",
    "# Get basic information about the product: its title, file size, MD5 sum, date, footprint and\n",
    "# its download url\n",
    "api.get_product_odata(<product_id>)\n",
    "\n",
    "# Get the product's full metadata available on the server\n",
    "api.get_product_odata(<product_id>, full=True)"
   ]
  },
  {
   "cell_type": "code",
   "execution_count": null,
   "id": "9792d25a-fe99-47f4-8497-c89c362f4123",
   "metadata": {},
   "outputs": [],
   "source": []
  }
 ],
 "metadata": {
  "kernelspec": {
   "display_name": "Python 3 (ipykernel)",
   "language": "python",
   "name": "python3"
  },
  "language_info": {
   "codemirror_mode": {
    "name": "ipython",
    "version": 3
   },
   "file_extension": ".py",
   "mimetype": "text/x-python",
   "name": "python",
   "nbconvert_exporter": "python",
   "pygments_lexer": "ipython3",
   "version": "3.9.10"
  }
 },
 "nbformat": 4,
 "nbformat_minor": 5
}
