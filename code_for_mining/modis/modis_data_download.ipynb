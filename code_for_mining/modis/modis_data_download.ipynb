{
 "cells": [
  {
   "cell_type": "code",
   "execution_count": null,
   "metadata": {},
   "outputs": [],
   "source": [
    "import logging\n",
    "import os\n",
    "from pathlib import Path\n",
    "\n",
    "import requests\n",
    "from dotenv import load_dotenv"
   ]
  },
  {
   "cell_type": "markdown",
   "metadata": {},
   "source": [
    "### Download data functions"
   ]
  },
  {
   "cell_type": "code",
   "execution_count": null,
   "metadata": {},
   "outputs": [],
   "source": [
    "logging.basicConfig(level=logging.INFO)\n",
    "\n",
    "# overriding requests.Session.rebuild_auth to maintain headers when redirected\n",
    "class SessionWithHeaderRedirection(requests.Session):\n",
    "    AUTH_HOST = \"urs.earthdata.nasa.gov\"\n",
    "\n",
    "    def __init__(self, username: str, password: str):\n",
    "        super().__init__()\n",
    "\n",
    "        self.auth = (username, password)\n",
    "\n",
    "    def rebuild_auth(self, prepared_request, response):\n",
    "        headers = prepared_request.headers\n",
    "\n",
    "        url = prepared_request.url\n",
    "\n",
    "        if \"Authorization\" in headers:\n",
    "            original_parsed = requests.utils.urlparse(response.request.url)\n",
    "\n",
    "            redirect_parsed = requests.utils.urlparse(url)\n",
    "\n",
    "            if (\n",
    "                (original_parsed.hostname != redirect_parsed.hostname)\n",
    "                and redirect_parsed.hostname != self.AUTH_HOST\n",
    "                and original_parsed.hostname != self.AUTH_HOST\n",
    "            ):\n",
    "                del headers[\"Authorization\"]\n",
    "\n",
    "        return\n",
    "\n",
    "\n",
    "def download_data(urls: list[str], output_directory: str | Path, username: str, password: str):\n",
    "    session = SessionWithHeaderRedirection(username, password)\n",
    "\n",
    "    if not os.path.isdir(output_directory):\n",
    "        os.makedirs(output_directory)\n",
    "\n",
    "    for url in urls:\n",
    "        filename = os.path.join(output_directory, url[url.rfind(\"/\") + 1 :])\n",
    "\n",
    "        try:\n",
    "            response = session.get(url, stream=True)\n",
    "            logging.info(f\"Downloading {url}, status code: {response.status_code}\")\n",
    "            response.raise_for_status()\n",
    "\n",
    "            with open(filename, \"wb\") as fd:\n",
    "                for chunk in response.iter_content(chunk_size=1024 * 1024):\n",
    "                    fd.write(chunk)\n",
    "\n",
    "            logging.info(f\"Downloaded {url} to {filename}\")\n",
    "\n",
    "        except requests.exceptions.HTTPError as e:\n",
    "            logging.error(f\"Error downloading {url}: {e}\")\n"
   ]
  },
  {
   "cell_type": "markdown",
   "metadata": {},
   "source": [
    "### Download data config\n",
    "\n",
    "Change this to the corret paths for the data you need"
   ]
  },
  {
   "cell_type": "code",
   "execution_count": null,
   "metadata": {},
   "outputs": [],
   "source": [
    "DATA_DIR = Path().cwd().parents[1] / \"datasets\" / \"modis\" / \"sea_surface_temp\"\n",
    "URLS_FILE = Path().cwd() /\"urls\" / \"sea_surface_temp.txt\""
   ]
  },
  {
   "cell_type": "code",
   "execution_count": null,
   "metadata": {},
   "outputs": [],
   "source": [
    "# Create the directory if it doesn't exist\n",
    "DATA_DIR.mkdir(parents=True, exist_ok=True)"
   ]
  },
  {
   "cell_type": "code",
   "execution_count": null,
   "metadata": {},
   "outputs": [],
   "source": [
    "def load_env_vars():\n",
    "    try:\n",
    "        load_dotenv()\n",
    "    except FileNotFoundError:\n",
    "        print(\"Error: .env file not found.\")\n",
    "\n",
    "def getenv(key: str) -> str:\n",
    "    value = os.getenv(key)\n",
    "    if value is None:\n",
    "        raise ValueError(f\"Environment variable '{key}' is not set.\")\n",
    "    return value"
   ]
  },
  {
   "cell_type": "code",
   "execution_count": null,
   "metadata": {},
   "outputs": [],
   "source": [
    "load_env_vars()\n",
    "username = getenv(\"USERNAME\")\n",
    "password = getenv(\"PASSWORD\")"
   ]
  },
  {
   "cell_type": "code",
   "execution_count": null,
   "metadata": {},
   "outputs": [],
   "source": [
    "# Open the file in read mode\n",
    "with open(URLS_FILE, \"r\") as f:\n",
    "    # Read all lines into a list\n",
    "    urls = f.readlines()\n",
    "\n",
    "urls = [url.strip() for url in urls]"
   ]
  },
  {
   "cell_type": "code",
   "execution_count": null,
   "metadata": {},
   "outputs": [],
   "source": [
    "download_data(urls=urls, output_directory=DATA_DIR, username=username, password=password)"
   ]
  }
 ],
 "metadata": {
  "kernelspec": {
   "display_name": "the-algae-project-SUTA8kEO-py3.10",
   "language": "python",
   "name": "python3"
  },
  "language_info": {
   "codemirror_mode": {
    "name": "ipython",
    "version": 3
   },
   "file_extension": ".py",
   "mimetype": "text/x-python",
   "name": "python",
   "nbconvert_exporter": "python",
   "pygments_lexer": "ipython3",
   "version": "3.10.13"
  }
 },
 "nbformat": 4,
 "nbformat_minor": 2
}
